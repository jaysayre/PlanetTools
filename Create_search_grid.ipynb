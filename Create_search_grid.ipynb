{
 "cells": [
  {
   "cell_type": "markdown",
   "metadata": {},
   "source": [
    "create_search_grid.py -- James Sayre, contact: sayrejay@gmail.com\n",
    "\n",
    "#### Purpose\n",
    "- Written to create a search grid that will serve as units of analysis for the processing script (box_analysis.py), as well as the script that queries the Planet server for imagery (planet_api_querying.py). \n",
    "- This search grid displayed here is extremely simple. In practice, in our work we subset down to only search grids that are within the country extent, are not within cells of water or urban areas, and other criteria. I leave the subsetting of the search grid up to you, because the optimal grid to use will vary by the user.\n",
    "- One very important choice to make is the projection of the grid. The script below assumes WGS84 (i.e. standard lat/lon coordinates), but if you are working with a relatively smaller area, I recommend use of the projection in which the Planet imagery are provided. This is to standardize the size of the images, for instance if you use a WGS84 projection for the grid boxes, then the resulting boxes will have varying length and width dimensions, and often appear to be rotated within the image. For our purposes (comparing images before/after with the same projection, and then computing a histogram), this is totally fine, as we don't care about the actual size of the input images. But if you are building a neural network that requires a consistent image size, this will be problematic and you will need to resize/crop the imagery. To give a sense of how large the projections are, for instance the Mexican state of Ensenada is covered by two separate projections -- EPSG: 32611 and EPSG: 32612. If you require a consistent image size, you will need to create separate grids for each projection.\n",
    "\n",
    "### Outputs\n",
    "- \"search_regions_img_corr.csv\" -- spreadsheet of the boxes/areas of interest (AOIs) that will need to be covered by satellite imagery"
   ]
  },
  {
   "cell_type": "code",
   "execution_count": 1,
   "metadata": {},
   "outputs": [],
   "source": [
    "### Packages\n",
    "import os\n",
    "import numpy as np\n",
    "import pandas as pd\n",
    "import geopandas as gpd\n",
    "import regionmask\n",
    "\n",
    "### Directories\n",
    "if os.name == 'nt': ### Windows\n",
    "    base_dir = \"../../\"\n",
    "else: ### Non-windows\n",
    "    base_dir = \"../../\"\n",
    "intermediate_dir = os.path.join(base_dir,\"Intermediates/\")\n",
    "\n",
    "### Outputs\n",
    "search_region_satelite_imgs = os.path.join(intermediate_dir,\"search_regions_img_corr.csv\")\n",
    "\n",
    "delta = 0.008333333 ### Spacing of grid \n",
    "xleft, xright = -117.395833, -86.6041679 ### Defining longitude range of AOI\n",
    "ytop, ybottom = 32.79583333, 14.4041674 ### Defining latitude range of AOI\n",
    "lons = np.arange(start=xleft, stop=xright + delta, step=delta)\n",
    "lats = np.arange(start=ytop, stop=ybottom - delta, step=-delta)\n",
    "\n",
    "lon_ind = dict(zip(lons, list(range(len(lons)))))\n",
    "lat_ind = dict(zip(lats, list(range(len(lats)))))\n",
    "\n",
    "Xgrid, Ygrid, = np.meshgrid(lons,lats)\n",
    "grid_df = pd.DataFrame({'x':Xgrid.flatten(),'y':Ygrid.flatten()})\n",
    "\n",
    "grid_df['i'] = grid_df['x'].apply(lambda x: lon_ind[x])\n",
    "grid_df['j'] = grid_df['y'].apply(lambda x: lat_ind[x])\n",
    "grid_df = grid_df.sort_values(['i','j']).reset_index(drop=True)\n",
    "\n",
    "grid_df['image_id'] = ''\n",
    "grid_df['bid'] = grid_df.index\n",
    "grid_df['muncode'] = 2001 ### Code later on expects 5 digit unique region identifier\n",
    "\n",
    "### Save to output file\n",
    "grid_df.to_csv(search_region_satelite_imgs,index=False)"
   ]
  }
 ],
 "metadata": {
  "kernelspec": {
   "display_name": "Python 3",
   "language": "python",
   "name": "python3"
  },
  "language_info": {
   "codemirror_mode": {
    "name": "ipython",
    "version": 3
   },
   "file_extension": ".py",
   "mimetype": "text/x-python",
   "name": "python",
   "nbconvert_exporter": "python",
   "pygments_lexer": "ipython3",
   "version": "3.7.3"
  }
 },
 "nbformat": 4,
 "nbformat_minor": 2
}
